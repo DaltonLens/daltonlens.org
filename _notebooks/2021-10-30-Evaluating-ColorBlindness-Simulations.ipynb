{
 "cells": [
  {
   "cell_type": "markdown",
   "id": "e4a77da8",
   "metadata": {},
   "source": [
    "# Evaluating Color Blindness Simulations\n",
    "> How well does each model match my perception? What severity do I have?\n",
    "\n",
    "- toc: true \n",
    "- badges: true\n",
    "- comments: true\n",
    "- categories: [simulation]\n",
    "- permalink: /evaluating-cvd-simulation/\n",
    "- image: images/chart-preview.png\n",
    "- hide: true"
   ]
  },
  {
   "cell_type": "code",
   "execution_count": null,
   "id": "9f123ad0",
   "metadata": {},
   "outputs": [],
   "source": [
    "# hide\n",
    "%load_ext autoreload\n",
    "%autoreload 2"
   ]
  },
  {
   "cell_type": "code",
   "execution_count": null,
   "id": "568f3870",
   "metadata": {},
   "outputs": [],
   "source": [
    "# hide\n",
    "%pip install pandas Geometry3D colour-science\n",
    "%pip install -q --upgrade plotly daltonlens"
   ]
  },
  {
   "cell_type": "code",
   "execution_count": null,
   "id": "f80e0c04",
   "metadata": {},
   "outputs": [],
   "source": [
    "# hide_input\n",
    "import plotly.io as pio\n",
    "if pio.renderers.default != 'colab':\n",
    "    pio.renderers.default = 'notebook_connected'\n",
    "from IPython.display import display, HTML\n",
    "js = '<script src=\"https://cdnjs.cloudflare.com/ajax/libs/require.js/2.3.6/require.min.js\" integrity=\"sha512-c3Nl8+7g4LMSTdrm621y7kf9v3SDPnhxLNhcjFJbKECVnmZHTdo+IRO05sNLTH/D3vA6u1X32ehoLC7WFVdheg==\" crossorigin=\"anonymous\"></script>'\n",
    "display(HTML(js))"
   ]
  },
  {
   "cell_type": "markdown",
   "id": "dd739d87-1b5b-421d-b265-587772a51ab4",
   "metadata": {},
   "source": [
    "## Generated Ishihara-like plates to evaluate the kind and severity of CVD\n",
    "\n",
    "It is possible to generate Ishihara-like plates for a given deficiency and severity factor. The main idea is to pick a confusion segment in the LMS space, and generate an Ishihara-like image by using one end of the segment as the background color and the other end as the foreground color (a single-digit number). On top of that lower degrees of severity can be tested by making the segment shorter, effectively reducing the distance between the colors along the confusion line. This makes it harder and harder to differentiate for someone with anomalous trichromacy.\n",
    "\n",
    "By looking at these generated plates it becomes possible to self-evaluate the kind of deficiency by checking in which plate the numbers are the harder to read. For example I can read all the numbers in the tritan plate, most numbers in the deutan plate (but not all), and barely any in the protan plate. This confirms that I am a protan.\n",
    "\n",
    "Then the severity can be evaluated by looking at plates generated with decreasing severity and checking at which value it becomes impossible to see any number. For me that's around 0.8 for the protan plate."
   ]
  },
  {
   "cell_type": "code",
   "execution_count": null,
   "id": "666d36c7-6750-457e-ad27-a860419486d0",
   "metadata": {},
   "outputs": [],
   "source": [
    "# collapse-hide\n",
    "# This cell defines all our imports and a few utilities\n",
    "import daltonlens.generate as generate\n",
    "import daltonlens.simulate as simulate\n",
    "import numpy as np\n",
    "import plotly.express as px\n",
    "import plotly.graph_objs as go\n",
    "from plotly.subplots import make_subplots\n",
    "\n",
    "# Utility for plotly imshow\n",
    "hide_image_axes = dict(yaxis_visible=False, yaxis_showticklabels=False, xaxis_visible=False, xaxis_showticklabels=False, margin=dict(l=0, r=0, b=0, t=0))\n",
    "\n",
    "def showAnimatedImages(title, deficiency):\n",
    "    images = []\n",
    "    for severity in np.arange(1.0, 0.19, -0.1):\n",
    "        im = generate.ishihara_plate(deficiency, severity, f\"Severity {severity:.1f}\")\n",
    "        images.append (im)\n",
    "    images = np.stack(images, axis=0)\n",
    "    fig = px.imshow(images, height=704*1.4, animation_frame=0, title=title).update_layout(hide_image_axes).update_layout(margin=None)\n",
    "    fig.show()\n",
    "\n",
    "showAnimatedImages(\"Protanopia / protanomaly\", simulate.Deficiency.PROTAN)\n",
    "showAnimatedImages(\"Deuteranopia / deuteranomaly\", simulate.Deficiency.DEUTAN)\n",
    "showAnimatedImages(\"Tritanopia / tratanomaly\", simulate.Deficiency.TRITAN)"
   ]
  },
  {
   "cell_type": "markdown",
   "id": "871c158d",
   "metadata": {},
   "source": [
    "{% bibliography --cited %}"
   ]
  },
  {
   "cell_type": "code",
   "execution_count": null,
   "id": "2a896e0d",
   "metadata": {},
   "outputs": [],
   "source": [
    "#hide\n",
    "# The cell above will show a nice bibliography in the HTML output."
   ]
  }
 ],
 "metadata": {
  "kernelspec": {
   "display_name": "Python 3 (ipykernel)",
   "language": "python",
   "name": "python3"
  },
  "language_info": {
   "codemirror_mode": {
    "name": "ipython",
    "version": 3
   },
   "file_extension": ".py",
   "mimetype": "text/x-python",
   "name": "python",
   "nbconvert_exporter": "python",
   "pygments_lexer": "ipython3",
   "version": "3.8.10"
  },
  "toc-autonumbering": false,
  "toc-showcode": false,
  "toc-showmarkdowntxt": false,
  "toc-showtags": false
 },
 "nbformat": 4,
 "nbformat_minor": 5
}
